{
 "cells": [
  {
   "cell_type": "markdown",
   "metadata": {},
   "source": [
    "# Biblioteca Shapely"
   ]
  },
  {
   "cell_type": "markdown",
   "metadata": {},
   "source": [
    "### 1. Carregando bibliotecas"
   ]
  },
  {
   "cell_type": "code",
   "execution_count": 24,
   "metadata": {},
   "outputs": [],
   "source": [
    "import matplotlib.pyplot as plt\n",
    "from shapely.geometry import Point, LineString, Polygon"
   ]
  },
  {
   "cell_type": "markdown",
   "metadata": {},
   "source": [
    "### 2. Criando geometrias"
   ]
  },
  {
   "cell_type": "markdown",
   "metadata": {},
   "source": [
    "#### 2.1. Point (Ponto)"
   ]
  },
  {
   "cell_type": "code",
   "execution_count": 25,
   "metadata": {},
   "outputs": [
    {
     "data": {
      "image/svg+xml": [
       "<svg xmlns=\"http://www.w3.org/2000/svg\" xmlns:xlink=\"http://www.w3.org/1999/xlink\" width=\"100.0\" height=\"100.0\" viewBox=\"4.0 9.0 2.0 2.0\" preserveAspectRatio=\"xMinYMin meet\"><g transform=\"matrix(1,0,0,-1,0,20.0)\"><circle cx=\"5.0\" cy=\"10.0\" r=\"0.06\" stroke=\"#555555\" stroke-width=\"0.02\" fill=\"#66cc99\" opacity=\"0.6\" /></g></svg>"
      ],
      "text/plain": [
       "<POINT (5 10)>"
      ]
     },
     "execution_count": 25,
     "metadata": {},
     "output_type": "execute_result"
    }
   ],
   "source": [
    "#Criando geometria do tipo ponto\n",
    "ponto = Point(5,10)\n",
    "ponto"
   ]
  },
  {
   "cell_type": "code",
   "execution_count": 26,
   "metadata": {},
   "outputs": [
    {
     "name": "stdout",
     "output_type": "stream",
     "text": [
      "POINT (5 10) <class 'shapely.geometry.point.Point'>\n"
     ]
    }
   ],
   "source": [
    "# Tipo da variavel\n",
    "print(ponto, type(ponto))"
   ]
  },
  {
   "cell_type": "code",
   "execution_count": 27,
   "metadata": {},
   "outputs": [
    {
     "data": {
      "text/plain": [
       "[(5.0, 10.0)]"
      ]
     },
     "execution_count": 27,
     "metadata": {},
     "output_type": "execute_result"
    }
   ],
   "source": [
    "#Funçao coords\n",
    "list(ponto.coords)"
   ]
  },
  {
   "cell_type": "code",
   "execution_count": 28,
   "metadata": {},
   "outputs": [
    {
     "name": "stdout",
     "output_type": "stream",
     "text": [
      "5.0 10.0\n"
     ]
    }
   ],
   "source": [
    "# lendo x e y separadamente\n",
    "x = ponto.x\n",
    "y = ponto.y\n",
    "\n",
    "print(x,y)"
   ]
  },
  {
   "cell_type": "code",
   "execution_count": 29,
   "metadata": {},
   "outputs": [
    {
     "name": "stdout",
     "output_type": "stream",
     "text": [
      "A distancia entre dois pontos é: 7.0710678118654755\n"
     ]
    }
   ],
   "source": [
    "# Como calcular a distancia entre dois pontos\n",
    "point1 = Point(2,4)\n",
    "point2 = Point(7,9)\n",
    "\n",
    "distancia = point1.distance(point2)\n",
    "\n",
    "print(f'A distancia entre dois pontos é: {distancia}')"
   ]
  },
  {
   "cell_type": "markdown",
   "metadata": {},
   "source": [
    "#### 2.2. LineString (Linha)"
   ]
  },
  {
   "cell_type": "code",
   "execution_count": 30,
   "metadata": {},
   "outputs": [
    {
     "data": {
      "image/svg+xml": [
       "<svg xmlns=\"http://www.w3.org/2000/svg\" xmlns:xlink=\"http://www.w3.org/1999/xlink\" width=\"100.0\" height=\"100.0\" viewBox=\"1.72 2.7199999999999998 3.5600000000000005 7.56\" preserveAspectRatio=\"xMinYMin meet\"><g transform=\"matrix(1,0,0,-1,0,13.0)\"><polyline fill=\"none\" stroke=\"#66cc99\" stroke-width=\"0.1512\" points=\"2.0,3.0 5.0,7.0 2.0,10.0\" opacity=\"0.8\" /></g></svg>"
      ],
      "text/plain": [
       "<LINESTRING (2 3, 5 7, 2 10)>"
      ]
     },
     "execution_count": 30,
     "metadata": {},
     "output_type": "execute_result"
    }
   ],
   "source": [
    "#Criando geometria do tipo linha\n",
    "\n",
    "ponto1 = Point(2,3)\n",
    "ponto2 = Point(5,7)\n",
    "ponto3 = Point(2,10)\n",
    "\n",
    "linha = LineString([ponto1,ponto2,ponto3])\n",
    "\n",
    "linha"
   ]
  },
  {
   "cell_type": "code",
   "execution_count": 31,
   "metadata": {},
   "outputs": [
    {
     "name": "stdout",
     "output_type": "stream",
     "text": [
      "LINESTRING (2 3, 5 7, 2 10) <class 'shapely.geometry.linestring.LineString'>\n"
     ]
    }
   ],
   "source": [
    "# Tipo da variavel\n",
    "print(linha, type(linha))"
   ]
  },
  {
   "cell_type": "code",
   "execution_count": 32,
   "metadata": {},
   "outputs": [
    {
     "name": "stdout",
     "output_type": "stream",
     "text": [
      "Coordenadas X: [2.0, 5.0, 2.0], Coordenadas Y: [3.0, 7.0, 10.0]\n"
     ]
    }
   ],
   "source": [
    "# Atributos e funções da linestring\n",
    "\n",
    "#Funçao coords (Extrair as coordenadas)\n",
    "list(linha.coords)\n",
    "\n",
    "# lendo x e y separadamente\n",
    "x = list(linha.xy[0])\n",
    "y = list(linha.xy[1])\n",
    "\n",
    "print(f'Coordenadas X: {x}, Coordenadas Y: {y}')"
   ]
  },
  {
   "cell_type": "code",
   "execution_count": 33,
   "metadata": {},
   "outputs": [
    {
     "data": {
      "text/plain": [
       "9.242640687119284"
      ]
     },
     "execution_count": 33,
     "metadata": {},
     "output_type": "execute_result"
    }
   ],
   "source": [
    "#Calcular o comprimento da linha\n",
    "linha.length"
   ]
  },
  {
   "cell_type": "code",
   "execution_count": 34,
   "metadata": {},
   "outputs": [
    {
     "name": "stdout",
     "output_type": "stream",
     "text": [
      "POINT (3.5000000000000004 6.606601717798214)\n"
     ]
    }
   ],
   "source": [
    "# Obter o ponto central (centroide)\n",
    "print(linha.centroid)"
   ]
  },
  {
   "cell_type": "markdown",
   "metadata": {},
   "source": [
    "#### 2.3. Polygon (Poligono)"
   ]
  },
  {
   "cell_type": "code",
   "execution_count": 35,
   "metadata": {},
   "outputs": [
    {
     "data": {
      "image/svg+xml": [
       "<svg xmlns=\"http://www.w3.org/2000/svg\" xmlns:xlink=\"http://www.w3.org/1999/xlink\" width=\"100.0\" height=\"100.0\" viewBox=\"1.24 -9.76 15.520000000000001 20.52\" preserveAspectRatio=\"xMinYMin meet\"><g transform=\"matrix(1,0,0,-1,0,1.0)\"><path fill-rule=\"evenodd\" fill=\"#66cc99\" stroke=\"#555555\" stroke-width=\"0.4104\" opacity=\"0.6\" d=\"M 2.0,1.0 L 5.0,7.0 L 8.0,10.0 L 12.0,6.0 L 16.0,-9.0 L 2.0,1.0 z\" /></g></svg>"
      ],
      "text/plain": [
       "<POLYGON ((2 1, 5 7, 8 10, 12 6, 16 -9, 2 1))>"
      ]
     },
     "execution_count": 35,
     "metadata": {},
     "output_type": "execute_result"
    }
   ],
   "source": [
    "#Criando geometria do tipo poligono\n",
    "polygon = Polygon([(2,1),(5,7),(8,10),(12,6),(16,-9)])\n",
    "polygon"
   ]
  },
  {
   "cell_type": "code",
   "execution_count": 36,
   "metadata": {},
   "outputs": [
    {
     "name": "stdout",
     "output_type": "stream",
     "text": [
      "POLYGON ((2 1, 5 7, 8 10, 12 6, 16 -9, 2 1)) <class 'shapely.geometry.polygon.Polygon'>\n"
     ]
    }
   ],
   "source": [
    "# Tipo da variavel\n",
    "print(polygon, type(polygon))"
   ]
  },
  {
   "cell_type": "code",
   "execution_count": 37,
   "metadata": {},
   "outputs": [
    {
     "data": {
      "text/plain": [
       "<shapely.coords.CoordinateSequence at 0x1b831089710>"
      ]
     },
     "execution_count": 37,
     "metadata": {},
     "output_type": "execute_result"
    }
   ],
   "source": [
    "#obter as coordenadas\n",
    "polygon.exterior.coords"
   ]
  },
  {
   "cell_type": "code",
   "execution_count": 38,
   "metadata": {},
   "outputs": [
    {
     "name": "stdout",
     "output_type": "stream",
     "text": [
      "A area do poligon é: 119.5\n"
     ]
    }
   ],
   "source": [
    "# calcular area\n",
    "area = polygon.area\n",
    "\n",
    "print(f\"A area do poligon é: {area}\")"
   ]
  },
  {
   "cell_type": "code",
   "execution_count": 39,
   "metadata": {},
   "outputs": [
    {
     "name": "stdout",
     "output_type": "stream",
     "text": [
      "Centroide: POINT (9.142259414225942 1.1743375174337518)\n"
     ]
    }
   ],
   "source": [
    "# obter o centroide do poligon\n",
    "polygon_centroid = polygon.centroid\n",
    "\n",
    "print(f'Centroide: {polygon_centroid}')"
   ]
  },
  {
   "cell_type": "code",
   "execution_count": 40,
   "metadata": {},
   "outputs": [
    {
     "data": {
      "text/plain": [
       "(2.0, -9.0, 16.0, 10.0)"
      ]
     },
     "execution_count": 40,
     "metadata": {},
     "output_type": "execute_result"
    }
   ],
   "source": [
    "# obter as coordenadas da bounding box\n",
    "polygon.bounds"
   ]
  },
  {
   "cell_type": "code",
   "execution_count": 41,
   "metadata": {},
   "outputs": [
    {
     "name": "stdout",
     "output_type": "stream",
     "text": [
      "LINEARRING (2 1, 5 7, 8 10, 12 6, 16 -9, 2 1)\n"
     ]
    }
   ],
   "source": [
    "# pegar as coordenadas da linha exterior\n",
    "polygon_exter = polygon.exterior\n",
    "print(polygon_exter)"
   ]
  },
  {
   "cell_type": "code",
   "execution_count": 42,
   "metadata": {},
   "outputs": [
    {
     "name": "stdout",
     "output_type": "stream",
     "text": [
      "O perimetro do poligono: 49.33652409945631\n"
     ]
    }
   ],
   "source": [
    "# obter o tamanho da linha exterior (PERIMETRO)\n",
    "polygon_perimetro = polygon.exterior.length\n",
    "\n",
    "print(f'O perimetro do poligono: {polygon_perimetro}')"
   ]
  },
  {
   "cell_type": "markdown",
   "metadata": {},
   "source": [
    "### 3. Operações básicas entre geometrias ( Ferramentas de Geoprocessamento)"
   ]
  },
  {
   "cell_type": "markdown",
   "metadata": {},
   "source": [
    "#### 3.1. BUFFER"
   ]
  },
  {
   "cell_type": "code",
   "execution_count": 43,
   "metadata": {},
   "outputs": [
    {
     "data": {
      "image/svg+xml": [
       "<svg xmlns=\"http://www.w3.org/2000/svg\" xmlns:xlink=\"http://www.w3.org/1999/xlink\" width=\"100.0\" height=\"100.0\" viewBox=\"-0.08 -0.08 2.16 2.16\" preserveAspectRatio=\"xMinYMin meet\"><g transform=\"matrix(1,0,0,-1,0,2.0)\"><path fill-rule=\"evenodd\" fill=\"#66cc99\" stroke=\"#555555\" stroke-width=\"0.0432\" opacity=\"0.6\" d=\"M 2.0,1.0 L 1.995184726672197,0.9019828596704393 L 1.9807852804032304,0.8049096779838718 L 1.9569403357322088,0.7097153227455377 L 1.9238795325112867,0.6173165676349102 L 1.881921264348355,0.5286032631740023 L 1.8314696123025453,0.4444297669803978 L 1.7730104533627369,0.3656067158363545 L 1.7071067811865475,0.2928932188134524 L 1.6343932841636455,0.22698954663726312 L 1.5555702330196022,0.16853038769745476 L 1.471396736825998,0.11807873565164506 L 1.3826834323650898,0.07612046748871326 L 1.2902846772544623,0.043059664267791065 L 1.1950903220161284,0.01921471959676957 L 1.0980171403295609,0.004815273327803182 L 1.0,0.0 L 0.9019828596704393,0.004815273327803071 L 0.8049096779838718,0.01921471959676957 L 0.7097153227455378,0.043059664267791065 L 0.6173165676349103,0.07612046748871326 L 0.5286032631740023,0.11807873565164495 L 0.44442976698039804,0.16853038769745465 L 0.3656067158363546,0.2269895466372629 L 0.29289321881345254,0.2928932188134524 L 0.226989546637263,0.3656067158363545 L 0.16853038769745465,0.4444297669803978 L 0.11807873565164506,0.5286032631740022 L 0.07612046748871326,0.6173165676349102 L 0.043059664267791176,0.7097153227455376 L 0.01921471959676957,0.8049096779838714 L 0.004815273327803182,0.9019828596704391 L 0.0,0.9999999999999999 L 0.004815273327803071,1.0980171403295607 L 0.01921471959676957,1.1950903220161284 L 0.043059664267791065,1.290284677254462 L 0.07612046748871315,1.3826834323650896 L 0.11807873565164495,1.4713967368259977 L 0.16853038769745454,1.555570233019602 L 0.2269895466372629,1.6343932841636453 L 0.2928932188134523,1.7071067811865475 L 0.36560671583635407,1.7730104533627367 L 0.4444297669803978,1.8314696123025453 L 0.5286032631740021,1.881921264348355 L 0.6173165676349097,1.9238795325112865 L 0.7097153227455375,1.9569403357322088 L 0.8049096779838714,1.9807852804032304 L 0.9019828596704396,1.995184726672197 L 0.9999999999999998,2.0 L 1.09801714032956,1.995184726672197 L 1.1950903220161284,1.9807852804032304 L 1.290284677254462,1.956940335732209 L 1.38268343236509,1.9238795325112865 L 1.4713967368259975,1.881921264348355 L 1.5555702330196017,1.8314696123025453 L 1.6343932841636457,1.7730104533627369 L 1.7071067811865475,1.7071067811865477 L 1.7730104533627364,1.634393284163646 L 1.8314696123025453,1.5555702330196022 L 1.881921264348355,1.471396736825998 L 1.9238795325112865,1.3826834323650905 L 1.9569403357322088,1.2902846772544625 L 1.9807852804032304,1.1950903220161286 L 1.995184726672197,1.0980171403295604 L 2.0,1.0 z\" /></g></svg>"
      ],
      "text/plain": [
       "<POLYGON ((2 1, 1.995 0.902, 1.981 0.805, 1.957 0.71, 1.924 0.617, 1.882 0.5...>"
      ]
     },
     "execution_count": 43,
     "metadata": {},
     "output_type": "execute_result"
    }
   ],
   "source": [
    "# Criar circulos (BUFFER)\n",
    "buffer1 = Point(1,1).buffer(1)\n",
    "buffer1"
   ]
  },
  {
   "cell_type": "markdown",
   "metadata": {},
   "source": [
    "#### 3.2 INTERSEÇÃO   \n"
   ]
  },
  {
   "cell_type": "code",
   "execution_count": 44,
   "metadata": {},
   "outputs": [
    {
     "data": {
      "image/png": "[encoded data removed]",
      "text/plain": [
       "<Figure size 640x480 with 1 Axes>"
      ]
     },
     "metadata": {},
     "output_type": "display_data"
    }
   ],
   "source": [
    "# Criar dois poligonos para usar como exemplo\n",
    "circulo1 = Point(1,1).buffer(1)\n",
    "circulo2 = Point(2,1).buffer(1)\n",
    "\n",
    "## Plotar os poligonos\n",
    "x,y= circulo1.exterior.xy\n",
    "plt.plot(x,y)\n",
    "\n",
    "x,y = circulo2.exterior.xy\n",
    "plt.plot(x,y)\n",
    "\n",
    "plt.show()"
   ]
  },
  {
   "cell_type": "code",
   "execution_count": 45,
   "metadata": {},
   "outputs": [
    {
     "data": {
      "image/svg+xml": [
       "<svg xmlns=\"http://www.w3.org/2000/svg\" xmlns:xlink=\"http://www.w3.org/1999/xlink\" width=\"100.0\" height=\"100.0\" viewBox=\"0.9308178297460941 0.06604070157226961 1.138364340507812 1.8679185968554606\" preserveAspectRatio=\"xMinYMin meet\"><g transform=\"matrix(1,0,0,-1,0,2.0)\"><path fill-rule=\"evenodd\" fill=\"#66cc99\" stroke=\"#555555\" stroke-width=\"0.03735837193710921\" opacity=\"0.6\" d=\"M 1.995184726672197,0.9019828596704393 L 1.9807852804032304,0.8049096779838718 L 1.9569403357322088,0.7097153227455377 L 1.9238795325112867,0.6173165676349102 L 1.881921264348355,0.5286032631740023 L 1.8314696123025453,0.4444297669803978 L 1.7730104533627369,0.3656067158363545 L 1.7071067811865475,0.2928932188134524 L 1.6343932841636455,0.22698954663726312 L 1.5555702330196022,0.16853038769745476 L 1.5,0.13522287182617557 L 1.444429766980398,0.16853038769745465 L 1.3656067158363547,0.2269895466372629 L 1.2928932188134525,0.2928932188134524 L 1.2269895466372631,0.3656067158363545 L 1.1685303876974547,0.4444297669803978 L 1.118078735651645,0.5286032631740022 L 1.0761204674887133,0.6173165676349102 L 1.0430596642677912,0.7097153227455376 L 1.0192147195967696,0.8049096779838714 L 1.0048152733278033,0.9019828596704391 L 1.0,0.9999999999999999 L 1.004815273327803,1.0980171403295607 L 1.0192147195967696,1.1950903220161284 L 1.043059664267791,1.290284677254462 L 1.076120467488713,1.3826834323650896 L 1.118078735651645,1.4713967368259977 L 1.1685303876974547,1.555570233019602 L 1.226989546637263,1.6343932841636453 L 1.2928932188134523,1.7071067811865475 L 1.365606715836354,1.7730104533627367 L 1.4444297669803978,1.8314696123025453 L 1.4999999999999998,1.8647771281738243 L 1.5555702330196017,1.8314696123025453 L 1.6343932841636457,1.7730104533627369 L 1.7071067811865475,1.7071067811865477 L 1.7730104533627364,1.634393284163646 L 1.8314696123025453,1.5555702330196022 L 1.881921264348355,1.471396736825998 L 1.9238795325112865,1.3826834323650905 L 1.9569403357322088,1.2902846772544625 L 1.9807852804032304,1.1950903220161286 L 1.995184726672197,1.0980171403295604 L 2.0,1.0 L 1.995184726672197,0.9019828596704393 z\" /></g></svg>"
      ],
      "text/plain": [
       "<POLYGON ((1.995 0.902, 1.981 0.805, 1.957 0.71, 1.924 0.617, 1.882 0.529, 1...>"
      ]
     },
     "execution_count": 45,
     "metadata": {},
     "output_type": "execute_result"
    }
   ],
   "source": [
    "# Fazendo a Interseção\n",
    "circulo_inter = circulo1.intersection(circulo2)\n",
    "circulo_inter"
   ]
  },
  {
   "cell_type": "markdown",
   "metadata": {},
   "source": [
    "#### 3.3. UNIÃO"
   ]
  },
  {
   "cell_type": "code",
   "execution_count": 46,
   "metadata": {},
   "outputs": [
    {
     "data": {
      "image/svg+xml": [
       "<svg xmlns=\"http://www.w3.org/2000/svg\" xmlns:xlink=\"http://www.w3.org/1999/xlink\" width=\"100.0\" height=\"100.0\" viewBox=\"-0.12 -0.12 3.24 2.24\" preserveAspectRatio=\"xMinYMin meet\"><g transform=\"matrix(1,0,0,-1,0,2.0)\"><path fill-rule=\"evenodd\" fill=\"#66cc99\" stroke=\"#555555\" stroke-width=\"0.06480000000000001\" opacity=\"0.6\" d=\"M 1.471396736825998,0.11807873565164506 L 1.3826834323650898,0.07612046748871326 L 1.2902846772544623,0.043059664267791065 L 1.1950903220161284,0.01921471959676957 L 1.0980171403295609,0.004815273327803182 L 1.0,0.0 L 0.9019828596704393,0.004815273327803071 L 0.8049096779838718,0.01921471959676957 L 0.7097153227455378,0.043059664267791065 L 0.6173165676349103,0.07612046748871326 L 0.5286032631740023,0.11807873565164495 L 0.44442976698039804,0.16853038769745465 L 0.3656067158363546,0.2269895466372629 L 0.29289321881345254,0.2928932188134524 L 0.226989546637263,0.3656067158363545 L 0.16853038769745465,0.4444297669803978 L 0.11807873565164506,0.5286032631740022 L 0.07612046748871326,0.6173165676349102 L 0.043059664267791176,0.7097153227455376 L 0.01921471959676957,0.8049096779838714 L 0.004815273327803182,0.9019828596704391 L 0.0,0.9999999999999999 L 0.004815273327803071,1.0980171403295607 L 0.01921471959676957,1.1950903220161284 L 0.043059664267791065,1.290284677254462 L 0.07612046748871315,1.3826834323650896 L 0.11807873565164495,1.4713967368259977 L 0.16853038769745454,1.555570233019602 L 0.2269895466372629,1.6343932841636453 L 0.2928932188134523,1.7071067811865475 L 0.36560671583635407,1.7730104533627367 L 0.4444297669803978,1.8314696123025453 L 0.5286032631740021,1.881921264348355 L 0.6173165676349097,1.9238795325112865 L 0.7097153227455375,1.9569403357322088 L 0.8049096779838714,1.9807852804032304 L 0.9019828596704396,1.995184726672197 L 0.9999999999999998,2.0 L 1.09801714032956,1.995184726672197 L 1.1950903220161284,1.9807852804032304 L 1.290284677254462,1.956940335732209 L 1.38268343236509,1.9238795325112865 L 1.4713967368259975,1.881921264348355 L 1.4999999999999998,1.8647771281738243 L 1.528603263174002,1.881921264348355 L 1.6173165676349097,1.9238795325112865 L 1.7097153227455375,1.9569403357322088 L 1.8049096779838714,1.9807852804032304 L 1.9019828596704396,1.995184726672197 L 1.9999999999999998,2.0 L 2.09801714032956,1.995184726672197 L 2.1950903220161284,1.9807852804032304 L 2.290284677254462,1.956940335732209 L 2.38268343236509,1.9238795325112865 L 2.4713967368259975,1.881921264348355 L 2.5555702330196017,1.8314696123025453 L 2.6343932841636457,1.7730104533627369 L 2.7071067811865475,1.7071067811865477 L 2.7730104533627364,1.634393284163646 L 2.8314696123025453,1.5555702330196022 L 2.881921264348355,1.471396736825998 L 2.9238795325112865,1.3826834323650905 L 2.9569403357322086,1.2902846772544625 L 2.9807852804032304,1.1950903220161286 L 2.995184726672197,1.0980171403295604 L 3.0,1.0 L 2.995184726672197,0.9019828596704393 L 2.9807852804032304,0.8049096779838718 L 2.9569403357322086,0.7097153227455377 L 2.923879532511287,0.6173165676349102 L 2.881921264348355,0.5286032631740023 L 2.8314696123025453,0.4444297669803978 L 2.773010453362737,0.3656067158363545 L 2.7071067811865475,0.2928932188134524 L 2.6343932841636457,0.22698954663726312 L 2.555570233019602,0.16853038769745476 L 2.471396736825998,0.11807873565164506 L 2.3826834323650896,0.07612046748871326 L 2.2902846772544625,0.043059664267791065 L 2.1950903220161284,0.01921471959676957 L 2.098017140329561,0.004815273327803182 L 2.0,0.0 L 1.9019828596704393,0.004815273327803071 L 1.8049096779838718,0.01921471959676957 L 1.709715322745538,0.043059664267791065 L 1.6173165676349104,0.07612046748871326 L 1.5286032631740023,0.11807873565164495 L 1.5,0.13522287182617557 L 1.471396736825998,0.11807873565164506 z\" /></g></svg>"
      ],
      "text/plain": [
       "<POLYGON ((1.471 0.118, 1.383 0.076, 1.29 0.043, 1.195 0.019, 1.098 0.005, 1...>"
      ]
     },
     "execution_count": 46,
     "metadata": {},
     "output_type": "execute_result"
    }
   ],
   "source": [
    "circulo_union = circulo1.union(circulo2)\n",
    "\n",
    "circulo_union"
   ]
  },
  {
   "cell_type": "markdown",
   "metadata": {},
   "source": [
    "#### 3.4. DIFERENÇA"
   ]
  },
  {
   "cell_type": "code",
   "execution_count": 47,
   "metadata": {},
   "outputs": [
    {
     "data": {
      "image/svg+xml": [
       "<svg xmlns=\"http://www.w3.org/2000/svg\" xmlns:xlink=\"http://www.w3.org/1999/xlink\" width=\"100.0\" height=\"100.0\" viewBox=\"-0.08 -0.08 1.6600000000000001 2.16\" preserveAspectRatio=\"xMinYMin meet\"><g transform=\"matrix(1,0,0,-1,0,2.0)\"><path fill-rule=\"evenodd\" fill=\"#66cc99\" stroke=\"#555555\" stroke-width=\"0.0432\" opacity=\"0.6\" d=\"M 1.471396736825998,0.11807873565164506 L 1.3826834323650898,0.07612046748871326 L 1.2902846772544623,0.043059664267791065 L 1.1950903220161284,0.01921471959676957 L 1.0980171403295609,0.004815273327803182 L 1.0,0.0 L 0.9019828596704393,0.004815273327803071 L 0.8049096779838718,0.01921471959676957 L 0.7097153227455378,0.043059664267791065 L 0.6173165676349103,0.07612046748871326 L 0.5286032631740023,0.11807873565164495 L 0.44442976698039804,0.16853038769745465 L 0.3656067158363546,0.2269895466372629 L 0.29289321881345254,0.2928932188134524 L 0.226989546637263,0.3656067158363545 L 0.16853038769745465,0.4444297669803978 L 0.11807873565164506,0.5286032631740022 L 0.07612046748871326,0.6173165676349102 L 0.043059664267791176,0.7097153227455376 L 0.01921471959676957,0.8049096779838714 L 0.004815273327803182,0.9019828596704391 L 0.0,0.9999999999999999 L 0.004815273327803071,1.0980171403295607 L 0.01921471959676957,1.1950903220161284 L 0.043059664267791065,1.290284677254462 L 0.07612046748871315,1.3826834323650896 L 0.11807873565164495,1.4713967368259977 L 0.16853038769745454,1.555570233019602 L 0.2269895466372629,1.6343932841636453 L 0.2928932188134523,1.7071067811865475 L 0.36560671583635407,1.7730104533627367 L 0.4444297669803978,1.8314696123025453 L 0.5286032631740021,1.881921264348355 L 0.6173165676349097,1.9238795325112865 L 0.7097153227455375,1.9569403357322088 L 0.8049096779838714,1.9807852804032304 L 0.9019828596704396,1.995184726672197 L 0.9999999999999998,2.0 L 1.09801714032956,1.995184726672197 L 1.1950903220161284,1.9807852804032304 L 1.290284677254462,1.956940335732209 L 1.38268343236509,1.9238795325112865 L 1.4713967368259975,1.881921264348355 L 1.4999999999999998,1.8647771281738243 L 1.4444297669803978,1.8314696123025453 L 1.365606715836354,1.7730104533627367 L 1.2928932188134523,1.7071067811865475 L 1.226989546637263,1.6343932841636453 L 1.1685303876974547,1.555570233019602 L 1.118078735651645,1.4713967368259977 L 1.076120467488713,1.3826834323650896 L 1.043059664267791,1.290284677254462 L 1.0192147195967696,1.1950903220161284 L 1.004815273327803,1.0980171403295607 L 1.0,0.9999999999999999 L 1.0048152733278033,0.9019828596704391 L 1.0192147195967696,0.8049096779838714 L 1.0430596642677912,0.7097153227455376 L 1.0761204674887133,0.6173165676349102 L 1.118078735651645,0.5286032631740022 L 1.1685303876974547,0.4444297669803978 L 1.2269895466372631,0.3656067158363545 L 1.2928932188134525,0.2928932188134524 L 1.3656067158363547,0.2269895466372629 L 1.444429766980398,0.16853038769745465 L 1.5,0.13522287182617557 L 1.471396736825998,0.11807873565164506 z\" /></g></svg>"
      ],
      "text/plain": [
       "<POLYGON ((1.471 0.118, 1.383 0.076, 1.29 0.043, 1.195 0.019, 1.098 0.005, 1...>"
      ]
     },
     "execution_count": 47,
     "metadata": {},
     "output_type": "execute_result"
    }
   ],
   "source": [
    "circulo_dif1 = circulo1.difference(circulo2)\n",
    "circulo_dif1"
   ]
  },
  {
   "cell_type": "code",
   "execution_count": 48,
   "metadata": {},
   "outputs": [
    {
     "data": {
      "image/svg+xml": [
       "<svg xmlns=\"http://www.w3.org/2000/svg\" xmlns:xlink=\"http://www.w3.org/1999/xlink\" width=\"100.0\" height=\"100.0\" viewBox=\"1.4199999999999997 -0.08 1.6600000000000004 2.16\" preserveAspectRatio=\"xMinYMin meet\"><g transform=\"matrix(1,0,0,-1,0,2.0)\"><path fill-rule=\"evenodd\" fill=\"#66cc99\" stroke=\"#555555\" stroke-width=\"0.0432\" opacity=\"0.6\" d=\"M 2.995184726672197,0.9019828596704393 L 2.9807852804032304,0.8049096779838718 L 2.9569403357322086,0.7097153227455377 L 2.923879532511287,0.6173165676349102 L 2.881921264348355,0.5286032631740023 L 2.8314696123025453,0.4444297669803978 L 2.773010453362737,0.3656067158363545 L 2.7071067811865475,0.2928932188134524 L 2.6343932841636457,0.22698954663726312 L 2.555570233019602,0.16853038769745476 L 2.471396736825998,0.11807873565164506 L 2.3826834323650896,0.07612046748871326 L 2.2902846772544625,0.043059664267791065 L 2.1950903220161284,0.01921471959676957 L 2.098017140329561,0.004815273327803182 L 2.0,0.0 L 1.9019828596704393,0.004815273327803071 L 1.8049096779838718,0.01921471959676957 L 1.709715322745538,0.043059664267791065 L 1.6173165676349104,0.07612046748871326 L 1.5286032631740023,0.11807873565164495 L 1.5,0.13522287182617557 L 1.5555702330196022,0.16853038769745476 L 1.6343932841636455,0.22698954663726312 L 1.7071067811865475,0.2928932188134524 L 1.7730104533627369,0.3656067158363545 L 1.8314696123025453,0.4444297669803978 L 1.881921264348355,0.5286032631740023 L 1.9238795325112867,0.6173165676349102 L 1.9569403357322088,0.7097153227455377 L 1.9807852804032304,0.8049096779838718 L 1.995184726672197,0.9019828596704393 L 2.0,1.0 L 1.995184726672197,1.0980171403295604 L 1.9807852804032304,1.1950903220161286 L 1.9569403357322088,1.2902846772544625 L 1.9238795325112865,1.3826834323650905 L 1.881921264348355,1.471396736825998 L 1.8314696123025453,1.5555702330196022 L 1.7730104533627364,1.634393284163646 L 1.7071067811865475,1.7071067811865477 L 1.6343932841636457,1.7730104533627369 L 1.5555702330196017,1.8314696123025453 L 1.4999999999999998,1.8647771281738243 L 1.528603263174002,1.881921264348355 L 1.6173165676349097,1.9238795325112865 L 1.7097153227455375,1.9569403357322088 L 1.8049096779838714,1.9807852804032304 L 1.9019828596704396,1.995184726672197 L 1.9999999999999998,2.0 L 2.09801714032956,1.995184726672197 L 2.1950903220161284,1.9807852804032304 L 2.290284677254462,1.956940335732209 L 2.38268343236509,1.9238795325112865 L 2.4713967368259975,1.881921264348355 L 2.5555702330196017,1.8314696123025453 L 2.6343932841636457,1.7730104533627369 L 2.7071067811865475,1.7071067811865477 L 2.7730104533627364,1.634393284163646 L 2.8314696123025453,1.5555702330196022 L 2.881921264348355,1.471396736825998 L 2.9238795325112865,1.3826834323650905 L 2.9569403357322086,1.2902846772544625 L 2.9807852804032304,1.1950903220161286 L 2.995184726672197,1.0980171403295604 L 3.0,1.0 L 2.995184726672197,0.9019828596704393 z\" /></g></svg>"
      ],
      "text/plain": [
       "<POLYGON ((2.995 0.902, 2.981 0.805, 2.957 0.71, 2.924 0.617, 2.882 0.529, 2...>"
      ]
     },
     "execution_count": 48,
     "metadata": {},
     "output_type": "execute_result"
    }
   ],
   "source": [
    "circulo_dif2 = circulo2.difference(circulo1)\n",
    "circulo_dif2"
   ]
  },
  {
   "cell_type": "markdown",
   "metadata": {},
   "source": [
    "#### 3.5. DIFERENÇA SIMETRICA"
   ]
  },
  {
   "cell_type": "code",
   "execution_count": 49,
   "metadata": {},
   "outputs": [
    {
     "data": {
      "image/svg+xml": [
       "<svg xmlns=\"http://www.w3.org/2000/svg\" xmlns:xlink=\"http://www.w3.org/1999/xlink\" width=\"100.0\" height=\"100.0\" viewBox=\"-0.12 -0.12 3.24 2.24\" preserveAspectRatio=\"xMinYMin meet\"><g transform=\"matrix(1,0,0,-1,0,2.0)\"><g><path fill-rule=\"evenodd\" fill=\"#66cc99\" stroke=\"#555555\" stroke-width=\"0.06480000000000001\" opacity=\"0.6\" d=\"M 1.5555702330196022,0.16853038769745476 L 1.6343932841636455,0.22698954663726312 L 1.7071067811865475,0.2928932188134524 L 1.7730104533627369,0.3656067158363545 L 1.8314696123025453,0.4444297669803978 L 1.881921264348355,0.5286032631740023 L 1.9238795325112867,0.6173165676349102 L 1.9569403357322088,0.7097153227455377 L 1.9807852804032304,0.8049096779838718 L 1.995184726672197,0.9019828596704393 L 2.0,1.0 L 1.995184726672197,1.0980171403295604 L 1.9807852804032304,1.1950903220161286 L 1.9569403357322088,1.2902846772544625 L 1.9238795325112865,1.3826834323650905 L 1.881921264348355,1.471396736825998 L 1.8314696123025453,1.5555702330196022 L 1.7730104533627364,1.634393284163646 L 1.7071067811865475,1.7071067811865477 L 1.6343932841636457,1.7730104533627369 L 1.5555702330196017,1.8314696123025453 L 1.4999999999999998,1.8647771281738243 L 1.528603263174002,1.881921264348355 L 1.6173165676349097,1.9238795325112865 L 1.7097153227455375,1.9569403357322088 L 1.8049096779838714,1.9807852804032304 L 1.9019828596704396,1.995184726672197 L 1.9999999999999998,2.0 L 2.09801714032956,1.995184726672197 L 2.1950903220161284,1.9807852804032304 L 2.290284677254462,1.956940335732209 L 2.38268343236509,1.9238795325112865 L 2.4713967368259975,1.881921264348355 L 2.5555702330196017,1.8314696123025453 L 2.6343932841636457,1.7730104533627369 L 2.7071067811865475,1.7071067811865477 L 2.7730104533627364,1.634393284163646 L 2.8314696123025453,1.5555702330196022 L 2.881921264348355,1.471396736825998 L 2.9238795325112865,1.3826834323650905 L 2.9569403357322086,1.2902846772544625 L 2.9807852804032304,1.1950903220161286 L 2.995184726672197,1.0980171403295604 L 3.0,1.0 L 2.995184726672197,0.9019828596704393 L 2.9807852804032304,0.8049096779838718 L 2.9569403357322086,0.7097153227455377 L 2.923879532511287,0.6173165676349102 L 2.881921264348355,0.5286032631740023 L 2.8314696123025453,0.4444297669803978 L 2.773010453362737,0.3656067158363545 L 2.7071067811865475,0.2928932188134524 L 2.6343932841636457,0.22698954663726312 L 2.555570233019602,0.16853038769745476 L 2.471396736825998,0.11807873565164506 L 2.3826834323650896,0.07612046748871326 L 2.2902846772544625,0.043059664267791065 L 2.1950903220161284,0.01921471959676957 L 2.098017140329561,0.004815273327803182 L 2.0,0.0 L 1.9019828596704393,0.004815273327803071 L 1.8049096779838718,0.01921471959676957 L 1.709715322745538,0.043059664267791065 L 1.6173165676349104,0.07612046748871326 L 1.5286032631740023,0.11807873565164495 L 1.5,0.13522287182617557 L 1.5555702330196022,0.16853038769745476 z\" /><path fill-rule=\"evenodd\" fill=\"#66cc99\" stroke=\"#555555\" stroke-width=\"0.06480000000000001\" opacity=\"0.6\" d=\"M 1.471396736825998,0.11807873565164506 L 1.3826834323650898,0.07612046748871326 L 1.2902846772544623,0.043059664267791065 L 1.1950903220161284,0.01921471959676957 L 1.0980171403295609,0.004815273327803182 L 1.0,0.0 L 0.9019828596704393,0.004815273327803071 L 0.8049096779838718,0.01921471959676957 L 0.7097153227455378,0.043059664267791065 L 0.6173165676349103,0.07612046748871326 L 0.5286032631740023,0.11807873565164495 L 0.44442976698039804,0.16853038769745465 L 0.3656067158363546,0.2269895466372629 L 0.29289321881345254,0.2928932188134524 L 0.226989546637263,0.3656067158363545 L 0.16853038769745465,0.4444297669803978 L 0.11807873565164506,0.5286032631740022 L 0.07612046748871326,0.6173165676349102 L 0.043059664267791176,0.7097153227455376 L 0.01921471959676957,0.8049096779838714 L 0.004815273327803182,0.9019828596704391 L 0.0,0.9999999999999999 L 0.004815273327803071,1.0980171403295607 L 0.01921471959676957,1.1950903220161284 L 0.043059664267791065,1.290284677254462 L 0.07612046748871315,1.3826834323650896 L 0.11807873565164495,1.4713967368259977 L 0.16853038769745454,1.555570233019602 L 0.2269895466372629,1.6343932841636453 L 0.2928932188134523,1.7071067811865475 L 0.36560671583635407,1.7730104533627367 L 0.4444297669803978,1.8314696123025453 L 0.5286032631740021,1.881921264348355 L 0.6173165676349097,1.9238795325112865 L 0.7097153227455375,1.9569403357322088 L 0.8049096779838714,1.9807852804032304 L 0.9019828596704396,1.995184726672197 L 0.9999999999999998,2.0 L 1.09801714032956,1.995184726672197 L 1.1950903220161284,1.9807852804032304 L 1.290284677254462,1.956940335732209 L 1.38268343236509,1.9238795325112865 L 1.4713967368259975,1.881921264348355 L 1.4999999999999998,1.8647771281738243 L 1.4444297669803978,1.8314696123025453 L 1.365606715836354,1.7730104533627367 L 1.2928932188134523,1.7071067811865475 L 1.226989546637263,1.6343932841636453 L 1.1685303876974547,1.555570233019602 L 1.118078735651645,1.4713967368259977 L 1.076120467488713,1.3826834323650896 L 1.043059664267791,1.290284677254462 L 1.0192147195967696,1.1950903220161284 L 1.004815273327803,1.0980171403295607 L 1.0,0.9999999999999999 L 1.0048152733278033,0.9019828596704391 L 1.0192147195967696,0.8049096779838714 L 1.0430596642677912,0.7097153227455376 L 1.0761204674887133,0.6173165676349102 L 1.118078735651645,0.5286032631740022 L 1.1685303876974547,0.4444297669803978 L 1.2269895466372631,0.3656067158363545 L 1.2928932188134525,0.2928932188134524 L 1.3656067158363547,0.2269895466372629 L 1.444429766980398,0.16853038769745465 L 1.5,0.13522287182617557 L 1.471396736825998,0.11807873565164506 z\" /></g></g></svg>"
      ],
      "text/plain": [
       "<MULTIPOLYGON (((1.556 0.169, 1.634 0.227, 1.707 0.293, 1.773 0.366, 1.831 0...>"
      ]
     },
     "execution_count": 49,
     "metadata": {},
     "output_type": "execute_result"
    }
   ],
   "source": [
    "circulo_dif_1 = circulo1.symmetric_difference(circulo2)\n",
    "circulo_dif_1"
   ]
  }
 ],
 "metadata": {
  "kernelspec": {
   "display_name": "geopython",
   "language": "python",
   "name": "python3"
  },
  "language_info": {
   "codemirror_mode": {
    "name": "ipython",
    "version": 3
   },
   "file_extension": ".py",
   "mimetype": "text/x-python",
   "name": "python",
   "nbconvert_exporter": "python",
   "pygments_lexer": "ipython3",
   "version": "3.11.4"
  },
  "orig_nbformat": 4
 },
 "nbformat": 4,
 "nbformat_minor": 2
}
